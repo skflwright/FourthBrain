{
 "cells": [
  {
   "attachments": {},
   "cell_type": "markdown",
   "metadata": {},
   "source": [
    "<p align = \"center\" draggable=”false” ><img src=\"https://user-images.githubusercontent.com/37101144/161836199-fdb0219d-0361-4988-bf26-48b0fad160a3.png\"\n",
    "     width=\"200px\"\n",
    "     height=\"auto\"/>\n",
    "</p>\n",
    "\n",
    "# <h1 align=\"center\" id=\"heading\">FastAPI Web App with Hugging Face Transformers</h1>\n",
    "\n",
    "<hr>\n",
    "\n",
    "\n",
    "### ☑️ Objectives\n",
    "At the end of this session, you will be able to:\n",
    "- [ ] Interact with the Hugging Face API\n",
    "- [ ] Build a simple web app using Fast API\n",
    "- [ ] Create an API endpoint for your selected pre-trained model"
   ]
  },
  {
   "attachments": {},
   "cell_type": "markdown",
   "metadata": {},
   "source": [
    "# PART 1: Hugging Face Model Hub\n",
    "\n",
    "First things first: We need to make a Hugging Face account! This is a free service that allows you to access pre-trained models. You can also upload your own models to the Hugging Face API!\n",
    "\n",
    "## 1.1 Create an account on Hugging Face\n",
    "\n",
    "1. Navigate to [Hugging Face](https://huggingface.co/) and click on the \"Sign Up\" button in the top right corner.\n",
    "\n",
    "2. Complete the sign-up process, and ensure you have verified your email address!\n",
    "\n",
    "## 1.2 Create a Hugging Face token\n",
    "\n",
    "Now that you have an account, you need to create a token. This token will allow you to access Hugging Face resources from your personal computer. While this is not always strictly necessary, it is a good idea to create a token for your own security.\n",
    "\n",
    "1. Navigate to your [Hugging Face profile](https://huggingface.co/settings/token) and click on the \"New token\" button.\n",
    "\n",
    "2. Once you have created a token, copy it and save it in the `.env` file in the root directory of this repository. \n",
    "\n",
    "3. Ensure that you have added the `.env` file to your `.gitignore` file. This will make sure that your token is not shared with the world!\n",
    "\n",
    "## 1.3 Browsing the Hugging Face Model Hub\n",
    "\n",
    "Now that you have an account and a token, you can start browsing the Hugging Face Model Hub. The Model Hub is a collection of pre-trained models that you can use for a variety of ML tasks.\n",
    "\n",
    "We're going to focus on translation this week, so let's start by browsing the NLP models. \n",
    "\n",
    "1. Navigate to the [NLP models](https://huggingface.co/models) page and click on the `+23 Tasks` (your number might be a bit different) button in the top left corner of the page. \n",
    "\n",
    "2. Select whatever task you want to explore. In this case, we're going to choose \"Translation\" and we'll select the [`t5-small`](https://huggingface.co/t5-small) model. \n",
    "\n",
    "3. Once you have selected a model, you can explore the model's documentation. This documentation will tell you how to use the model, and what it was trained on.\n",
    "\n",
    "4. You can also quickly import the model using the \"</> Use in Transformers\" button. This will give you a code snippet that you can use to import the model into your own code!\n",
    "\n",
    "Now that you have a model in mind, let's start working towards building a web app!"
   ]
  },
  {
   "attachments": {},
   "cell_type": "markdown",
   "metadata": {},
   "source": [
    "## PART 2: Hugging Face Pipelines\n",
    "\n",
    "Now that we've explored the Hugging Face Model Hub, let's take a look at the Hugging Face Pipelines. Pipelines are a simple way to use pre-trained models. They allow you to quickly and easily use pre-trained models without having to write any code!\n",
    "\n",
    "### 2.1 Using the Hugging Face Pipelines\n",
    "\n",
    "1. Navigate to the [Hugging Face Pipelines](https://huggingface.co/transformers/main_classes/pipelines.html) documentation page.\n",
    "\n",
    "2. Scroll down the TranslationPipeline to check out the documentation for the `pipeline` function we'll be using!"
   ]
  },
  {
   "cell_type": "code",
   "execution_count": 22,
   "metadata": {},
   "outputs": [
    {
     "name": "stdout",
     "output_type": "stream",
     "text": [
      "huggingface/tokenizers: The current process just got forked, after parallelism has already been used. Disabling parallelism to avoid deadlocks...\n",
      "To disable this warning, you can either:\n",
      "\t- Avoid using `tokenizers` before the fork if possible\n",
      "\t- Explicitly set the environment variable TOKENIZERS_PARALLELISM=(true | false)\n",
      "\u001b[31mERROR: Could not open requirements file: [Errno 2] No such file or directory: 'requirements.txt'\u001b[0m\u001b[31m\n",
      "\u001b[0m"
     ]
    }
   ],
   "source": [
    "!pip install -r requirements.txt\n",
    "\n",
    "import transformers\n",
    "import torch\n",
    "from transformers import pipeline"
   ]
  },
  {
   "cell_type": "code",
   "execution_count": 23,
   "metadata": {},
   "outputs": [],
   "source": [
    "\"\"\"\n",
    "We're going to use the pipeline API to do inference on a pretrained model.\n",
    "We'll be making a translation pipeline, using the model you selected above!\n",
    "\"\"\"\n",
    "from transformers import AutoTokenizer, AutoModelForSeq2SeqLM"
   ]
  },
  {
   "cell_type": "code",
   "execution_count": 13,
   "metadata": {},
   "outputs": [
    {
     "name": "stdout",
     "output_type": "stream",
     "text": [
      "Hallo Welt!\n"
     ]
    }
   ],
   "source": [
    "from transformers import T5Tokenizer, T5Model\n",
    "from transformers import T5Tokenizer, T5ForConditionalGeneration\n",
    "\n",
    "tokenizer = AutoTokenizer.from_pretrained(\"t5-small\")\n",
    "model = AutoModelForSeq2SeqLM.from_pretrained(\"t5-small\")\n",
    "\n",
    "# Load the translation pipeline \n",
    "\n",
    "input_ids = tokenizer(\"translate English to German: Hello world!\", return_tensors=\"pt\").input_ids\n",
    "outputs = model.generate(input_ids)\n",
    "\n",
    "#translate=pipeline(input_ids, model('model'))\n",
    "\n",
    "print(tokenizer.decode(outputs[0], skip_special_tokens=True))\n",
    "#print(translate.decode(outputs[0], skip_special_tokens=True))\n",
    "\n"
   ]
  },
  {
   "cell_type": "code",
   "execution_count": 24,
   "metadata": {},
   "outputs": [
    {
     "name": "stdout",
     "output_type": "stream",
     "text": [
      "[{'translation_text': 'Hallo Welt!'}]\n"
     ]
    },
    {
     "name": "stderr",
     "output_type": "stream",
     "text": [
      "/home/skfl/anaconda3/envs/mlops-course/lib/python3.10/site-packages/transformers/models/t5/tokenization_t5_fast.py:155: FutureWarning: This tokenizer was incorrectly instantiated with a model max length of 512 which will be corrected in Transformers v5.\n",
      "For now, this behavior is kept to avoid breaking backwards compatibility when padding/encoding with `truncation is True`.\n",
      "- Be aware that you SHOULD NOT rely on t5-small automatically truncating your input to 512 when padding/encoding.\n",
      "- If you want to encode/pad to sequences longer than 512 you can either instantiate this tokenizer with `model_max_length` or pass `max_length` when encoding/padding.\n",
      "- To avoid this warning, please instantiate this tokenizer with `model_max_length` set to your preferred value.\n",
      "  warnings.warn(\n"
     ]
    }
   ],
   "source": [
    "from transformers import pipeline\n",
    "\n",
    "# Define the pipeline\n",
    "translator = pipeline(\"translation_en_to_de\", model=\"t5-small\")\n",
    "\n",
    "# Use the pipeline to translate a sentence\n",
    "translation = translator(\"Hello world!\")\n",
    "\n",
    "print(translation)"
   ]
  },
  {
   "attachments": {},
   "cell_type": "markdown",
   "metadata": {},
   "source": [
    "### 2.2 Save the pipeline locally\n",
    "\n",
    "Now that we know how to use the `pipeline` function, let's save it locally so we can use it in our web app later without needing to download it every time we run the app."
   ]
  },
  {
   "cell_type": "code",
   "execution_count": 25,
   "metadata": {},
   "outputs": [
    {
     "name": "stdout",
     "output_type": "stream",
     "text": [
      "[{'translation_text': 'Wohin gehen wir?'}]\n"
     ]
    }
   ],
   "source": [
    "# test the pipeline\n",
    "\n",
    "print(translator('where are we going?'))\n",
    "\n",
    "\n",
    "\n"
   ]
  },
  {
   "cell_type": "code",
   "execution_count": 20,
   "metadata": {},
   "outputs": [],
   "source": [
    "# Save the pipeline\n",
    "\n",
    "model_name = 'my_awesome_model' \n",
    "translator.save_pretrained('fast_api_tutorial/app/model/' + 'my_awesome_model')"
   ]
  },
  {
   "attachments": {},
   "cell_type": "markdown",
   "metadata": {},
   "source": [
    "# CONCLUSION\n",
    "\n",
    "Now that you have a Hugging Face account, a token, and saved the pipeline locally, you're ready to start building your web app!\n",
    "\n",
    "Let's get out of this notebook, and into the `fast_api_tutorial` subdirectory!"
   ]
  }
 ],
 "metadata": {
  "kernelspec": {
   "display_name": "mlops-course",
   "language": "python",
   "name": "python3"
  },
  "language_info": {
   "codemirror_mode": {
    "name": "ipython",
    "version": 3
   },
   "file_extension": ".py",
   "mimetype": "text/x-python",
   "name": "python",
   "nbconvert_exporter": "python",
   "pygments_lexer": "ipython3",
   "version": "3.10.8"
  },
  "orig_nbformat": 4,
  "vscode": {
   "interpreter": {
    "hash": "4957537c5eba6cefd9ad4e6033182e3f3f7760aa4d214ef3d2b6e025883c63e6"
   }
  }
 },
 "nbformat": 4,
 "nbformat_minor": 2
}
