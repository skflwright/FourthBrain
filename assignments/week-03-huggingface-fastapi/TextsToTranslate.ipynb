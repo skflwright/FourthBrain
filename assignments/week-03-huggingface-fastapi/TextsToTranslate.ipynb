{
 "cells": [
  {
   "cell_type": "code",
   "execution_count": 22,
   "metadata": {},
   "outputs": [
    {
     "name": "stderr",
     "output_type": "stream",
     "text": [
      "Truncation was not explicitly activated but `max_length` is provided a specific value, please use `truncation=True` to explicitly truncate examples to max length. Defaulting to 'longest_first' truncation strategy. If you encode pairs of sequences (GLUE-style) with the tokenizer you can select this strategy more precisely by providing a specific strategy to `truncation`.\n"
     ]
    },
    {
     "name": "stdout",
     "output_type": "stream",
     "text": [
      "Hallo Welt!\n",
      "Schön, Sie zu treffen\n"
     ]
    }
   ],
   "source": [
    "\"\"\"Now that we're on our new branch, we can add our new feature!\n",
    "Add a new pydantic model called TextsToTranslate that has a single attribute called input_texts that is a list of strings.\n",
    "Add a new POST request to your web app that takes in a TextsToTranslate object and returns a list of translated strings.\n",
    "Test out your new POST request using the Swagger UI!\"\"\"\n",
    "\n",
    "from transformers import AutoModelForSeq2SeqLM, AutoTokenizer\n",
    "\n",
    "# Initialize the model and tokenizer\n",
    "TextToTranslate = AutoModelForSeq2SeqLM.from_pretrained(\"t5-base\")\n",
    "tokenizer = AutoTokenizer.from_pretrained(\"t5-base\")\n",
    "\n",
    "# List of input strings\n",
    "input_strings = [\"translate English to German: Hello world!\", \"translate English to German: Nice to meet you\"]\n",
    "\n",
    "# Tokenize the input\n",
    "encoded_input = tokenizer.batch_encode_plus(input_strings, return_tensors=\"pt\", max_length=1024, pad_to_max_length=True)\n",
    "\n",
    "# Generate the translation\n",
    "\n",
    "outputs = TextToTranslate.generate(**encoded_input, max_length=1024, num_beams=4, no_repeat_ngram_size=2, early_stopping=True)\n",
    "\n",
    "# Decode the output\n",
    "output_text = tokenizer.batch_decode(outputs, skip_special_tokens=True)\n",
    "\n",
    "# Print the output\n",
    "for i in output_text:\n",
    "    print(i)\n"
   ]
  }
 ],
 "metadata": {
  "kernelspec": {
   "display_name": "mlops-course",
   "language": "python",
   "name": "python3"
  },
  "language_info": {
   "codemirror_mode": {
    "name": "ipython",
    "version": 3
   },
   "file_extension": ".py",
   "mimetype": "text/x-python",
   "name": "python",
   "nbconvert_exporter": "python",
   "pygments_lexer": "ipython3",
   "version": "3.10.8 (main, Nov 24 2022, 14:13:03) [GCC 11.2.0]"
  },
  "orig_nbformat": 4,
  "vscode": {
   "interpreter": {
    "hash": "4957537c5eba6cefd9ad4e6033182e3f3f7760aa4d214ef3d2b6e025883c63e6"
   }
  }
 },
 "nbformat": 4,
 "nbformat_minor": 2
}
